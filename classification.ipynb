{
 "cells": [
  {
   "cell_type": "code",
   "execution_count": 21,
   "metadata": {},
   "outputs": [],
   "source": [
    "from tkinter.font import names\n",
    "from sklearn.preprocessing import OneHotEncoder\n",
    "from sklearn.model_selection import train_test_split\n",
    "from sklearn import metrics \n",
    "import pandas as pd"
   ]
  },
  {
   "cell_type": "markdown",
   "metadata": {},
   "source": [
    "# Loading Data\n",
    "\n",
    "Sklearn DecisionTreeClassifier ne prend que des **valeurs numériques** ... (it's not a good news, really bad one)"
   ]
  },
  {
   "cell_type": "code",
   "execution_count": 23,
   "metadata": {},
   "outputs": [
    {
     "data": {
      "text/html": [
       "<div>\n",
       "<style scoped>\n",
       "    .dataframe tbody tr th:only-of-type {\n",
       "        vertical-align: middle;\n",
       "    }\n",
       "\n",
       "    .dataframe tbody tr th {\n",
       "        vertical-align: top;\n",
       "    }\n",
       "\n",
       "    .dataframe thead th {\n",
       "        text-align: right;\n",
       "    }\n",
       "</style>\n",
       "<table border=\"1\" class=\"dataframe\">\n",
       "  <thead>\n",
       "    <tr style=\"text-align: right;\">\n",
       "      <th></th>\n",
       "      <th>name</th>\n",
       "      <th>HMMTOP_tm_segment_length</th>\n",
       "      <th>HMMTOP_plus_10_after_TM_charge</th>\n",
       "      <th>HMMTOP_plus_10_after_TM_sequence</th>\n",
       "    </tr>\n",
       "  </thead>\n",
       "  <tbody>\n",
       "    <tr>\n",
       "      <th>0</th>\n",
       "      <td>sp|P00401|COX1_YEAST</td>\n",
       "      <td>[22, 24, 19, 24, 24, 24, 18, 19, 24, 24, 19, 24]</td>\n",
       "      <td>[0, -1, -1, 1, 0, 2, 1, 2, -1, 0, 1, 2]</td>\n",
       "      <td>['IRLELAAPGS', 'MIGATDTAFP', 'VESGAGTGWT', 'LN...</td>\n",
       "    </tr>\n",
       "    <tr>\n",
       "      <th>1</th>\n",
       "      <td>sp|P03875|AI1M_YEAST</td>\n",
       "      <td>[19, 19, 22]</td>\n",
       "      <td>[0, 3, 2]</td>\n",
       "      <td>['IRLELAAPGS', 'INRYLKHMTN', 'IRITISSYHL']</td>\n",
       "    </tr>\n",
       "    <tr>\n",
       "      <th>2</th>\n",
       "      <td>sp|P03876|AI2M_YEAST</td>\n",
       "      <td>[19, 17, 17]</td>\n",
       "      <td>[0, 1, 2]</td>\n",
       "      <td>['IRLELAAPGS', 'FRLIYHCIEV', 'FRYVNHMAYP']</td>\n",
       "    </tr>\n",
       "    <tr>\n",
       "      <th>3</th>\n",
       "      <td>sp|P03877|SCE3_YEAST</td>\n",
       "      <td>[22, 23, 22]</td>\n",
       "      <td>[0, 1, 1]</td>\n",
       "      <td>['IRLELAAPGS', 'GNQKRYESNN', 'MRTPKYEAFV']</td>\n",
       "    </tr>\n",
       "    <tr>\n",
       "      <th>4</th>\n",
       "      <td>sp|P03878|SCE2_YEAST</td>\n",
       "      <td>[23, 24, 17, 24, 23, 17, 18]</td>\n",
       "      <td>[0, -1, -1, 1, 0, 1, 0]</td>\n",
       "      <td>['IRLELAAPGS', 'MIGATDTAFP', 'VESGAGTGWT', 'LN...</td>\n",
       "    </tr>\n",
       "  </tbody>\n",
       "</table>\n",
       "</div>"
      ],
      "text/plain": [
       "                   name                          HMMTOP_tm_segment_length  \\\n",
       "0  sp|P00401|COX1_YEAST  [22, 24, 19, 24, 24, 24, 18, 19, 24, 24, 19, 24]   \n",
       "1  sp|P03875|AI1M_YEAST                                      [19, 19, 22]   \n",
       "2  sp|P03876|AI2M_YEAST                                      [19, 17, 17]   \n",
       "3  sp|P03877|SCE3_YEAST                                      [22, 23, 22]   \n",
       "4  sp|P03878|SCE2_YEAST                      [23, 24, 17, 24, 23, 17, 18]   \n",
       "\n",
       "            HMMTOP_plus_10_after_TM_charge  \\\n",
       "0  [0, -1, -1, 1, 0, 2, 1, 2, -1, 0, 1, 2]   \n",
       "1                                [0, 3, 2]   \n",
       "2                                [0, 1, 2]   \n",
       "3                                [0, 1, 1]   \n",
       "4                  [0, -1, -1, 1, 0, 1, 0]   \n",
       "\n",
       "                    HMMTOP_plus_10_after_TM_sequence  \n",
       "0  ['IRLELAAPGS', 'MIGATDTAFP', 'VESGAGTGWT', 'LN...  \n",
       "1         ['IRLELAAPGS', 'INRYLKHMTN', 'IRITISSYHL']  \n",
       "2         ['IRLELAAPGS', 'FRLIYHCIEV', 'FRYVNHMAYP']  \n",
       "3         ['IRLELAAPGS', 'GNQKRYESNN', 'MRTPKYEAFV']  \n",
       "4  ['IRLELAAPGS', 'MIGATDTAFP', 'VESGAGTGWT', 'LN...  "
      ]
     },
     "execution_count": 23,
     "metadata": {},
     "output_type": "execute_result"
    }
   ],
   "source": [
    "df = pd.read_csv(\"output.csv\", sep=\";\").dropna(how='any')\n",
    "data = df[['name', 'HMMTOP_tm_segment_length','HMMTOP_plus_10_after_TM_charge','HMMTOP_plus_10_after_TM_sequence']]\n",
    "data.head()"
   ]
  },
  {
   "cell_type": "code",
   "execution_count": 24,
   "metadata": {},
   "outputs": [
    {
     "data": {
      "text/html": [
       "<div>\n",
       "<style scoped>\n",
       "    .dataframe tbody tr th:only-of-type {\n",
       "        vertical-align: middle;\n",
       "    }\n",
       "\n",
       "    .dataframe tbody tr th {\n",
       "        vertical-align: top;\n",
       "    }\n",
       "\n",
       "    .dataframe thead th {\n",
       "        text-align: right;\n",
       "    }\n",
       "</style>\n",
       "<table border=\"1\" class=\"dataframe\">\n",
       "  <thead>\n",
       "    <tr style=\"text-align: right;\">\n",
       "      <th></th>\n",
       "      <th>name</th>\n",
       "      <th>HMMTOP_tm_segment_length</th>\n",
       "      <th>HMMTOP_plus_10_after_TM_charge</th>\n",
       "      <th>HMMTOP_plus_10_after_TM_sequence</th>\n",
       "    </tr>\n",
       "  </thead>\n",
       "  <tbody>\n",
       "    <tr>\n",
       "      <th>count</th>\n",
       "      <td>901</td>\n",
       "      <td>901</td>\n",
       "      <td>901</td>\n",
       "      <td>901</td>\n",
       "    </tr>\n",
       "    <tr>\n",
       "      <th>unique</th>\n",
       "      <td>901</td>\n",
       "      <td>124</td>\n",
       "      <td>139</td>\n",
       "      <td>321</td>\n",
       "    </tr>\n",
       "    <tr>\n",
       "      <th>top</th>\n",
       "      <td>sp|P00401|COX1_YEAST</td>\n",
       "      <td>[]</td>\n",
       "      <td>[]</td>\n",
       "      <td>[]</td>\n",
       "    </tr>\n",
       "    <tr>\n",
       "      <th>freq</th>\n",
       "      <td>1</td>\n",
       "      <td>581</td>\n",
       "      <td>581</td>\n",
       "      <td>581</td>\n",
       "    </tr>\n",
       "  </tbody>\n",
       "</table>\n",
       "</div>"
      ],
      "text/plain": [
       "                        name HMMTOP_tm_segment_length  \\\n",
       "count                    901                      901   \n",
       "unique                   901                      124   \n",
       "top     sp|P00401|COX1_YEAST                       []   \n",
       "freq                       1                      581   \n",
       "\n",
       "       HMMTOP_plus_10_after_TM_charge HMMTOP_plus_10_after_TM_sequence  \n",
       "count                             901                              901  \n",
       "unique                            139                              321  \n",
       "top                                []                               []  \n",
       "freq                              581                              581  "
      ]
     },
     "execution_count": 24,
     "metadata": {},
     "output_type": "execute_result"
    }
   ],
   "source": [
    "data.describe()"
   ]
  },
  {
   "cell_type": "markdown",
   "metadata": {},
   "source": [
    "### Feature Selection   \n",
    "\n",
    "divide given columns into two types of varaibles dependant and independant variable"
   ]
  },
  {
   "cell_type": "code",
   "execution_count": 12,
   "metadata": {},
   "outputs": [],
   "source": [
    "feature_cols = ['HMMTOP_tm_segment_length','HMMTOP_plus_10_after_TM_sequence']\n",
    "X = data[feature_cols]\n",
    "y = data.HMMTOP_plus_10_after_TM_charge"
   ]
  },
  {
   "cell_type": "markdown",
   "metadata": {},
   "source": [
    "I need to transform the data into numerique one"
   ]
  },
  {
   "cell_type": "code",
   "execution_count": 26,
   "metadata": {},
   "outputs": [
    {
     "name": "stdout",
     "output_type": "stream",
     "text": [
      "[[0. 0. 0. ... 0. 0. 0.]\n",
      " [0. 0. 0. ... 0. 0. 0.]\n",
      " [0. 0. 0. ... 0. 0. 0.]\n",
      " ...\n",
      " [0. 0. 0. ... 0. 0. 1.]\n",
      " [0. 0. 0. ... 0. 0. 1.]\n",
      " [0. 0. 0. ... 0. 0. 1.]]\n"
     ]
    }
   ],
   "source": [
    "ohe = OneHotEncoder()\n",
    "transformed = ohe.fit_transform(df[['HMMTOP_plus_10_after_TM_charge']])\n",
    "print(transformed.toarray())\n"
   ]
  },
  {
   "cell_type": "code",
   "execution_count": 27,
   "metadata": {},
   "outputs": [
    {
     "name": "stdout",
     "output_type": "stream",
     "text": [
      "[array(['[-1, -1, 2]', '[-1, -1]', '[-1, -2]', '[-1, 0, 3]',\n",
      "       '[-1, 0, 4, 1, 2, -2, 2, 3]', '[-1, 0]', '[-1, 1, 0]',\n",
      "       '[-1, 1, 1, 1, 0, 2, 0, -2]', '[-1, 1, 1, 4, 0, 0, 0, -3]',\n",
      "       '[-1, 2, 1, 3, 0, 1, 0, 1, 1, -2, -1, 2]', '[-1, 2, 2, -1]',\n",
      "       '[-1, 3]', '[-1, 4, -2, 2, 0]', '[-1, 5]', '[-1]', '[-2, -1]',\n",
      "       '[-2, 0, 3, -2, 4]', '[-2, 0]', '[-2, 1]', '[-2, 2]',\n",
      "       '[-2, 4, 0, 1, 0, 1, -2, 0, -1, 1]', '[-2, 4]', '[-2]', '[-3, 2]',\n",
      "       '[-3, 3, 1]', '[-3]', '[-4]',\n",
      "       '[0, -1, -1, 1, -1, 1, 2, 1, 1, -1, 4, 2, 2]',\n",
      "       '[0, -1, -1, 1, 0, 1, 0]',\n",
      "       '[0, -1, -1, 1, 0, 2, 1, 2, -1, 0, 1, 2]', '[0, -1, 2, 0, 2, 0]',\n",
      "       '[0, -1, 2, 1, -3, -1]', '[0, -1, 4, 1]', '[0, -3]',\n",
      "       '[0, 0, -1, -1, 2, 1, -2]', '[0, 0, 0, 0]', '[0, 0, 1, 2, -1]',\n",
      "       '[0, 0, 1, 2, 3]', '[0, 0, 4, 3]', '[0, 0]', '[0, 1, 0, 0]',\n",
      "       '[0, 1, 0, 3, -1]', '[0, 1, 1, 0, 3, 0]', '[0, 1, 1, 0]',\n",
      "       '[0, 1, 1]', '[0, 1, 2]', '[0, 1, 3]', '[0, 1]',\n",
      "       '[0, 2, 0, 2, -1]', '[0, 2, 0, 2, 2]', '[0, 2, 0]',\n",
      "       '[0, 2, 1, -2, 1, -1]', '[0, 2, 1, 0, 2, 0, 1, 0, 0]',\n",
      "       '[0, 2, 1, 1, 2, 0, 3]', '[0, 2]', '[0, 3, -1, 2, -1, 4, 1, 3]',\n",
      "       '[0, 3, 0, 2, 1, 3]', '[0, 3, 0]', '[0, 3, 2, 3, 2]', '[0, 3, 2]',\n",
      "       '[0, 3]', '[0, 4, 0]', '[0, 4]', '[0, 6]', '[0]',\n",
      "       '[1, -1, 0, 2, -1, 3, 0]',\n",
      "       '[1, -1, 1, 2, 2, -1, 0, 0, 1, -1, 0, -2, 2, -1, 4]',\n",
      "       '[1, -1, 3, 0]', '[1, -1, 3, 1, 1, 0, 1]', '[1, -1]',\n",
      "       '[1, -2, 2, 1]', '[1, 0, 2, -1]', '[1, 0, 2, 1, 1, 3]',\n",
      "       '[1, 0, 3, 0]', '[1, 0, 3, 3]', '[1, 0]', '[1, 1, 1, -1, -1, 0]',\n",
      "       '[1, 1, 1, 0, 0, 0]', '[1, 1, 1, 1, 2, -1]', '[1, 1, 2, -1]',\n",
      "       '[1, 1, 2, 0, 0, -1, 1]', '[1, 1, 2, 0, 2, 1]', '[1, 1, 3, -1]',\n",
      "       '[1, 1]', '[1, 2, 0]', '[1, 2, 1, 0]', '[1, 2, 1, 1, -1, -1]',\n",
      "       '[1, 2, 2, 0]', '[1, 2, 3, 0]', '[1, 2, 3]',\n",
      "       '[1, 3, 1, -1, 2, -1]', '[1, 3, 2]', '[1, 3, 3, 1]', '[1, 3]',\n",
      "       '[1, 4]', '[1]', '[2, -1]', '[2, -2]', '[2, 0, 1, -1, 0, 2]',\n",
      "       '[2, 0, 1, -1, 0, 3]', '[2, 0, 1, -1]', '[2, 0, 3]', '[2, 0]',\n",
      "       '[2, 1, 0, 1, 1, -1]', '[2, 1, 1]', '[2, 1, 2, 1]', '[2, 1]',\n",
      "       '[2, 2, -1, 0, 1, 3]', '[2, 2, -1, 1]', '[2, 2, 0, 1, 1]',\n",
      "       '[2, 2, 0, 1]', '[2, 2, 1]', '[2, 2]', '[2, 3, 1, 1, 2]', '[2, 5]',\n",
      "       '[2]', '[3, -1, 2, 0, 1, 3, 0, 1, 2, 0, 1, 1]', '[3, -1, 2, 1, 3]',\n",
      "       '[3, -1, 3, -1]', '[3, -1]', '[3, 0]', '[3, 1]',\n",
      "       '[3, 2, 0, 2, 2, -1, -1]', '[3, 2, 0]', '[3, 2, 4, 2]', '[3, 2]',\n",
      "       '[3, 3]', '[3]', '[4, -1, 1, -1]', '[4, -2, 0]', '[4, -2, 1, 1]',\n",
      "       '[4, 0, 0, 0, 1]', '[4, 1]', '[4, 2]', '[4, 4]', '[4]', '[5]',\n",
      "       '[8]', '[]'], dtype=object)]\n"
     ]
    }
   ],
   "source": [
    "print(ohe.categories_)"
   ]
  },
  {
   "cell_type": "markdown",
   "metadata": {},
   "source": [
    "### Spliting data "
   ]
  },
  {
   "cell_type": "code",
   "execution_count": 16,
   "metadata": {},
   "outputs": [],
   "source": [
    "# split dataset into training set and test set\n",
    "X_train, X_test, y_train, y_test = train_test_split(X, y, test_size=0.3, random_state=4)\n",
    "# 70% training and 30% test"
   ]
  },
  {
   "cell_type": "markdown",
   "metadata": {},
   "source": [
    "### Building Decision Tree Model"
   ]
  },
  {
   "cell_type": "code",
   "execution_count": 20,
   "metadata": {},
   "outputs": [
    {
     "data": {
      "text/plain": [
       "(630, 2)"
      ]
     },
     "execution_count": 20,
     "metadata": {},
     "output_type": "execute_result"
    }
   ],
   "source": [
    "X_train.shape\n",
    "#type(X_train)"
   ]
  },
  {
   "cell_type": "code",
   "execution_count": 25,
   "metadata": {},
   "outputs": [],
   "source": [
    "# create decision tree classifier object \n",
    "clf = DecisionTreeClassifier()\n",
    "\n",
    "#train decision tree classifier\n",
    "clf = clf.fit(X_train, y_train)\n",
    "\n",
    "# predict the response for test dataset \n",
    "y_pred = clf.predict(X_test)"
   ]
  }
 ],
 "metadata": {
  "interpreter": {
   "hash": "f06a2e3a50f3eb91aa26dac539ed6bc25fd4529b290d13145342db1087d7e474"
  },
  "kernelspec": {
   "display_name": "Python 3.10.0 64-bit",
   "language": "python",
   "name": "python3"
  },
  "language_info": {
   "codemirror_mode": {
    "name": "ipython",
    "version": 3
   },
   "file_extension": ".py",
   "mimetype": "text/x-python",
   "name": "python",
   "nbconvert_exporter": "python",
   "pygments_lexer": "ipython3",
   "version": "3.10.0"
  },
  "orig_nbformat": 4
 },
 "nbformat": 4,
 "nbformat_minor": 2
}
